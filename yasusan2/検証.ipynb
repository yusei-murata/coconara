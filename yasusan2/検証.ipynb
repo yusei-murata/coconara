{
 "cells": [
  {
   "cell_type": "code",
   "execution_count": 1,
   "metadata": {},
   "outputs": [],
   "source": [
    "try:\n",
    "    from bs4 import BeautifulSoup\n",
    "    import requests\n",
    "    import datetime\n",
    "    import re\n",
    "    import pandas as pd\n",
    "    from tqdm import tqdm\n",
    "    import numpy as np\n",
    "    from io import StringIO\n",
    "    import openpyxl\n",
    "    from openpyxl.styles import PatternFill\n",
    "    from openpyxl.styles import Font\n",
    "    from openpyxl.utils.dataframe import dataframe_to_rows\n",
    "    from openpyxl.utils import column_index_from_string\n",
    "    import warnings\n",
    "\n",
    "    # FutureWarningを無視する\n",
    "    warnings.filterwarnings('ignore', category=FutureWarning)\n",
    "except Exception as e:\n",
    "    print(f\"エラーが発生しました: {e}\")\n",
    "    input(\"エラーが発生しました。Enterキーを押して終了します。\")"
   ]
  },
  {
   "cell_type": "code",
   "execution_count": 5,
   "metadata": {},
   "outputs": [],
   "source": [
    "# 結果スクレイピング\n",
    "url = 'https://uma-x.jp/race_kekka/3202403011120241102'\n",
    "res = requests.get(url)\n",
    "res.encoding = res.apparent_encoding\n",
    "soup = BeautifulSoup(res.text,'html.parser')\n",
    "kenshu_list = []\n",
    "umaban_list = []\n",
    "haraimodoshi_list = []\n",
    "ninki_list = []"
   ]
  },
  {
   "cell_type": "code",
   "execution_count": 6,
   "metadata": {},
   "outputs": [],
   "source": [
    "wide_umaban = soup.find_all('div',class_='wide no')[0].text.split('\\n')\n",
    "wide_haraimodoshi = soup.find_all('div',class_='wide yen')[0].text.split('\\n')\n",
    "wide_ninki = soup.find_all('div',class_='wide ninki')[0].text.split('\\n')\n"
   ]
  },
  {
   "cell_type": "code",
   "execution_count": 7,
   "metadata": {},
   "outputs": [
    {
     "data": {
      "text/plain": [
       "['', '1-2', '2-16', '1-16', '']"
      ]
     },
     "execution_count": 7,
     "metadata": {},
     "output_type": "execute_result"
    }
   ],
   "source": [
    "wide_umaban"
   ]
  },
  {
   "cell_type": "code",
   "execution_count": null,
   "metadata": {},
   "outputs": [],
   "source": []
  }
 ],
 "metadata": {
  "kernelspec": {
   "display_name": "base",
   "language": "python",
   "name": "python3"
  },
  "language_info": {
   "codemirror_mode": {
    "name": "ipython",
    "version": 3
   },
   "file_extension": ".py",
   "mimetype": "text/x-python",
   "name": "python",
   "nbconvert_exporter": "python",
   "pygments_lexer": "ipython3",
   "version": "3.11.5"
  }
 },
 "nbformat": 4,
 "nbformat_minor": 2
}
