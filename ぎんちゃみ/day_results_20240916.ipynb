{
 "cells": [
  {
   "cell_type": "code",
   "execution_count": 1,
   "metadata": {},
   "outputs": [
    {
     "name": "stdout",
     "output_type": "stream",
     "text": [
      "プログラム開始\n"
     ]
    }
   ],
   "source": [
    "print('プログラム開始')"
   ]
  },
  {
   "cell_type": "code",
   "execution_count": 2,
   "metadata": {},
   "outputs": [],
   "source": [
    "import pandas as pd\n",
    "import datetime\n",
    "import requests\n",
    "from bs4 import BeautifulSoup\n",
    "import re\n",
    "import time\n",
    "import openpyxl\n",
    "from io import StringIO\n",
    "import sys\n",
    "import tqdm\n",
    "from urllib.request import urlopen"
   ]
  },
  {
   "cell_type": "code",
   "execution_count": 3,
   "metadata": {},
   "outputs": [],
   "source": [
    "today = datetime.datetime.today()\n",
    "today_year = str(today.year)\n",
    "today_month = str(today.month)\n",
    "today_monthz = str(today.month).zfill(2)\n",
    "today_day = str(today.day)\n",
    "today_dayz = str(today.day).zfill(2)\n",
    "today_today = today_year +\"/\"+ today_month +\"/\"+ today_day\n",
    "today_todayz = today_year +\"/\"+ today_monthz +\"/\"+ today_dayz\n",
    "today_today2 = today_year + today_monthz + today_dayz\n",
    "jra = today_year +'/'+ today_year +\"/\"+ today_month +\"/\"+ today_monthz + today_dayz\n",
    "today_tw = today_month + '/' + today_day\n",
    "today_nt = today_monthz + today_dayz"
   ]
  },
  {
   "cell_type": "code",
   "execution_count": 1,
   "metadata": {},
   "outputs": [
    {
     "data": {
      "text/plain": [
       "'\\nif today.month >= 9 and today.day >= 22:\\n    raise SystemExit(\"今日の日付が9/22以降です。強制終了します。\")\\n'"
      ]
     },
     "execution_count": 1,
     "metadata": {},
     "output_type": "execute_result"
    }
   ],
   "source": [
    "\"\"\"\n",
    "if today.month >= 9 and today.day >= 22:\n",
    "    raise SystemExit(\"今日の日付が9/22以降です。強制終了します。\")\n",
    "\"\"\""
   ]
  },
  {
   "cell_type": "code",
   "execution_count": null,
   "metadata": {},
   "outputs": [],
   "source": [
    "input_year = input('取得したいレースの年を記入してください'\\\n",
    "    '(例: 20240101)')"
   ]
  },
  {
   "cell_type": "code",
   "execution_count": 6,
   "metadata": {},
   "outputs": [
    {
     "name": "stdout",
     "output_type": "stream",
     "text": [
      "レースID取得中\n"
     ]
    },
    {
     "name": "stderr",
     "output_type": "stream",
     "text": [
      "100%|██████████| 41/41 [00:15<00:00,  2.62it/s]\n"
     ]
    }
   ],
   "source": [
    "# %%\n",
    "place_list = [\n",
    "    '門別', '盛岡', '水沢', '浦和', '船橋', '大井', '川崎', '金沢', '笠松', '名古屋', '名古屋', '姫路', '高知', '佐賀', '帯広(ば)'\n",
    "]\n",
    "\n",
    "# %%\n",
    "place_dict = {\n",
    "    '30':'門別',  '35':'盛岡',  '36':'水沢',  '42':'浦和',  '43':'船橋', '44':'大井',\n",
    "    '45':'川崎',  '46':'金沢',  '47':'笠松',  '48':'名古屋', '50':'園田', '51':'姫路',\n",
    "    '54':'高知', '55':'佐賀', '65':'帯広(ば)'\n",
    "}\n",
    "\n",
    "# %%\n",
    "def race_id_get_month(race_year, race_month):\n",
    "    race_id_list = []\n",
    "    #開催一覧からレースID（レース数を除く）レース日の取得\n",
    "    url = 'https://nar.netkeiba.com/top/calendar.html?year='+str(race_year)+'&month='+str(race_month)\n",
    "    html = requests.get(url)\n",
    "    html.encoding = \"EUC-JP\"\n",
    "    soup = BeautifulSoup(html.text, \"html.parser\")\n",
    "    race_list_1 = []\n",
    "    race_list_2 = []\n",
    "    day_list = []\n",
    "    for link in soup.find_all('a'):\n",
    "        if link.get('href').startswith('../top/race_list.html?kaisai_date') == True:\n",
    "            race_link = link.get('href')[-10:]\n",
    "            race_day = link.get('href')[34:-21]\n",
    "            race_list_1.append(race_link[4:6])\n",
    "            race_list_2.append(race_link)\n",
    "            day_list.append(race_day)\n",
    "\n",
    "    #レース数の確認\n",
    "    race_len_list = []\n",
    "    for kaijo, day in zip(tqdm.tqdm(race_list_1), day_list):\n",
    "        url = 'https://db.netkeiba.com/race/sum/'+kaijo+'/'+day+'/'\n",
    "        html = requests.get(url)\n",
    "        html.encoding = \"EUC-JP\"\n",
    "        soup = BeautifulSoup(html.text, \"html.parser\")\n",
    "        len_list = []\n",
    "        for link in soup.find_all('img'):\n",
    "            if link.get('src').startswith('/style/netkeiba.ja/image') == True:\n",
    "                len_list.append(link)\n",
    "        race_len_list.append(len(len_list))\n",
    "    #レース数とrace_idをconcatする\n",
    "    for race, ran in zip(race_list_2,race_len_list):\n",
    "        for ran_len in range(1,int(ran)+1):\n",
    "            race_id_list.append(str(race)+str(ran_len).zfill(2))\n",
    "    \n",
    "    return race_id_list\n",
    "\n",
    "# %%\n",
    "def race_id_get_year(race_year):\n",
    "    race_id_list = []\n",
    "    #開催一覧からレースID（レース数を除く）レース日の取得\n",
    "    for race_month in range(1,13):\n",
    "        url = 'https://nar.netkeiba.com/top/calendar.html?year='+str(race_year)+'&month='+str(race_month)\n",
    "        html = requests.get(url)\n",
    "        html.encoding = \"EUC-JP\"\n",
    "        soup = BeautifulSoup(html.text, \"html.parser\")\n",
    "        race_list_1 = []\n",
    "        race_list_2 = []\n",
    "        day_list = []\n",
    "        for link in soup.find_all('a'):\n",
    "            if link.get('href').startswith('../top/race_list.html?kaisai_date') == True:\n",
    "                race_link = link.get('href')[-10:]\n",
    "                race_day = link.get('href')[34:-21]\n",
    "                race_list_1.append(race_link[4:6])\n",
    "                race_list_2.append(race_link)\n",
    "                day_list.append(race_day)\n",
    "\n",
    "        #レース数の確認\n",
    "        race_len_list = []\n",
    "        for kaijo, day in zip(tqdm.tqdm(race_list_1), day_list):\n",
    "            url = 'https://db.netkeiba.com/race/sum/'+kaijo+'/'+day+'/'\n",
    "            html = requests.get(url)\n",
    "            html.encoding = \"EUC-JP\"\n",
    "            soup = BeautifulSoup(html.text, \"html.parser\")\n",
    "            len_list = []\n",
    "            for link in soup.find_all('img'):\n",
    "                if link.get('src').startswith('/style/netkeiba.ja/image') == True:\n",
    "                    len_list.append(link)\n",
    "            race_len_list.append(len(len_list))\n",
    "        #レース数とrace_idをconcatする\n",
    "        for race, ran in zip(race_list_2,race_len_list):\n",
    "            for ran_len in range(1,int(ran)+1):\n",
    "                race_id_list.append(str(race)+str(ran_len).zfill(2))\n",
    "    \n",
    "    return race_id_list\n",
    "\n",
    "# %%\n",
    "print('レースID取得中')\n",
    "race_id_list = race_id_get_month(int(input_year[:4]), int(input_year[4:6]))\n"
   ]
  },
  {
   "cell_type": "code",
   "execution_count": 7,
   "metadata": {},
   "outputs": [],
   "source": [
    "only_race_id = []\n",
    "for data in race_id_list:\n",
    "    if data[:4] + data[6:8] + data[8:10] == input_year:\n",
    "        only_race_id.append(data)"
   ]
  },
  {
   "cell_type": "code",
   "execution_count": 29,
   "metadata": {},
   "outputs": [],
   "source": [
    "def scrape_results_processore(df, race_id):\n",
    "    columns_list= ['開催日時',  '開催場所', 'レース']\n",
    "    data_list = [str(race_id[:4])+'/'+str(race_id[6:8])+'/'+str(race_id[8:10]), place_dict[race_id[4:6]], int(race_id[-2:])]\n",
    "    for a in range(len(df)):\n",
    "        if len(df[2][a].split(' ')) >= 2:\n",
    "            if df[0][a] == '単勝' or df[0][a] == '複勝':\n",
    "                for data in range(len(df[2][a].split(' '))): #同着の場合の処理\n",
    "                    columns_list.append(str(df[0][a])+'_'+str(data+1)) #券種の追加\n",
    "                    columns_list.append(str(df[0][a])+'_'+str(data+1)+'_払い戻し')\n",
    "                    data_list.append(int(df[1][a].split(' ')[data])) #馬番の追加\n",
    "                    data_list.append(int(df[2][a].split(' ')[data].replace('円', '').replace(',', ''))/100) #払い戻しの追加\n",
    "            elif df[0][a] == '枠連' or df[0][a] == '馬連' or df[0][a] == '馬単' or df[0][a] == 'ワイド':\n",
    "                for data in range(0,len(df[2][a].split(' '))): #同着の場合の処理\n",
    "                    if data == 0:\n",
    "                        columns_list.append(str(df[0][a])+'_'+str(data+1)) #券種の追加\n",
    "                        columns_list.append(str(df[0][a])+'_'+str(data+1)+'_払い戻し')\n",
    "                        data_list.append(df[1][a].split(' ')[data]+'-'+df[1][a].split(' ')[data+1]) #馬番の追加\n",
    "                        data_list.append(int(df[2][a].split(' ')[data].replace('円', '').replace(',', ''))/100) #払い戻しの追加\n",
    "                    elif data == 1:\n",
    "                        columns_list.append(str(df[0][a])+'_'+str(data+1)+'_払い戻し')\n",
    "                        columns_list.append(str(df[0][a])+'_'+str(data+1)) #券種の追加\n",
    "                        data_list.append(int(df[2][a].split(' ')[data].replace('円', '').replace(',', ''))/100) #払い戻しの追加\n",
    "                        data += 1\n",
    "                        data_list.append(df[1][a].split(' ')[data]+'-'+df[1][a].split(' ')[data+1]) #馬番の追加\n",
    "                    else:\n",
    "                        columns_list.append(str(df[0][a])+'_'+str(data+1)+'_払い戻し')\n",
    "                        columns_list.append(str(df[0][a])+'_'+str(data+1)) #券種の追加\n",
    "                        data_list.append(int(df[2][a].split(' ')[data].replace('円', '').replace(',', ''))/100) #払い戻しの追加\n",
    "                        data += 2\n",
    "                        data_list.append(df[1][a].split(' ')[data]+'-'+df[1][a].split(' ')[data+1]) #馬番の追加\n",
    "                    \n",
    "            elif df[0][a] == '3連複' or df[0][a] == '3連単':\n",
    "                for data in range(0,len(df[2][a].split(' ')),3):\n",
    "                    columns_list.append(str(df[0][a])+'_'+str(data+1)) #券種の追加\n",
    "                    columns_list.append(str(df[0][a])+'_'+str(data+1)+'_払い戻し')\n",
    "                    data_list.append(df[1][a].split(' ')[data]+'-'+df[1][a].split(' ')[data+1]+'-'+df[1][a].split(' ')[data+2]) #馬番の追加\n",
    "                    data_list.append(int(df[2][a].split(' ')[data].replace('円', '').replace(',', ''))/100) #払い戻しの追加\n",
    "\n",
    "        else:\n",
    "            if df[0][a] == '単勝' or df[0][a] == '複勝':\n",
    "                columns_list.append(str(df[0][a])) #券種の追加\n",
    "                columns_list.append(str(df[0][a])+'_払い戻し') #払い戻しの追加\n",
    "                data_list.append(int(df[1][a])) #馬番の追加\n",
    "                data_list.append(int(df[2][a].replace('円', '').replace(',', ''))/100) #払い戻しの追加\n",
    "            elif df[0][a] == '枠連' or df[0][a] == '馬連' or df[0][a] == '馬単':\n",
    "                columns_list.append(str(df[0][a])) #券種の追加\n",
    "                columns_list.append(str(df[0][a])+'_払い戻し') #払い戻しの追加\n",
    "                data_list.append(df[1][a].replace(' ', '-')) #馬番の追加\n",
    "                data_list.append(int(df[2][a].replace('円', '').replace(',', ''))/100) #払い戻しの追加\n",
    "            elif df[0][a] == '3連複' or df[0][a] == '3連単':\n",
    "                columns_list.append(str(df[0][a])) #券種の追加\n",
    "                columns_list.append(str(df[0][a])+'_払い戻し') #払い戻しの追加\n",
    "                data_list.append(df[1][a].replace(' ', '-')) #馬番の追加\n",
    "                data_list.append(int(df[2][a].replace('円', '').replace(',', ''))/100) #払い戻しの追加\n",
    "    return columns_list, data_list"
   ]
  },
  {
   "cell_type": "code",
   "execution_count": 30,
   "metadata": {},
   "outputs": [],
   "source": [
    "def scrape_results(race_id):\n",
    "    try:\n",
    "        url = \"https://nar.netkeiba.com/race/result.html?race_id=\" + race_id\n",
    "        #メインとなるテーブルデータを取得\n",
    "        response = requests.get(url)\n",
    "        soup = BeautifulSoup(response.content, \"html.parser\")\n",
    "        tables = soup.find_all('table')\n",
    "\n",
    "        # StringIOオブジェクトにHTMLをラップ\n",
    "        html_io = StringIO(str(tables))\n",
    "\n",
    "        # pandasのDataFrameに変換\n",
    "        dfs = pd.read_html(html_io, encoding=response.encoding)\n",
    "\n",
    "        # 最初のテーブルを取得\n",
    "        df_1 = dfs[1]\n",
    "        df_2 = dfs[2]\n",
    "        df_concat = pd.concat([df_1, df_2], axis=0).reset_index(drop=True)\n",
    "        \n",
    "        columns_list, data_list = scrape_results_processore(df_concat, race_id)\n",
    "        df = pd.DataFrame([data_list], columns=columns_list)\n",
    "    except ImportError:\n",
    "        df = pd.DataFrame()\n",
    "    return df"
   ]
  },
  {
   "cell_type": "code",
   "execution_count": 31,
   "metadata": {},
   "outputs": [
    {
     "name": "stdout",
     "output_type": "stream",
     "text": [
      "レース結果取得中\n"
     ]
    },
    {
     "name": "stderr",
     "output_type": "stream",
     "text": [
      "100%|██████████| 48/48 [00:19<00:00,  2.48it/s]\n"
     ]
    }
   ],
   "source": [
    "print('レース結果取得中')\n",
    "list = []\n",
    "for race_id in tqdm.tqdm(only_race_id):\n",
    "    list.append(scrape_results(race_id))"
   ]
  },
  {
   "cell_type": "code",
   "execution_count": 32,
   "metadata": {},
   "outputs": [],
   "source": [
    "columns = ['開催日時', '開催場所', 'レース', \n",
    "        '単勝', '単勝_払い戻し', '単勝_1', '単勝_1_払い戻し', '単勝_2','単勝_2_払い戻し', \n",
    "        '複勝_1', '複勝_1_払い戻し', '複勝_2', '複勝_2_払い戻し', '複勝_3', '複勝_3_払い戻し', '複勝_4', '複勝_4_払い戻し',\n",
    "        '枠連', '枠連_払い戻し', '枠連_1', '枠連_1_払い戻し', '枠連_2', '枠連_2_払い戻し',\n",
    "        '馬連', '馬連_払い戻し', '馬連_1', '馬連_1_払い戻し', '馬連_2', '馬連_2_払い戻し',\n",
    "        'ワイド_1', 'ワイド_1_払い戻し', 'ワイド_2', 'ワイド_2_払い戻し', 'ワイド_3', 'ワイド_3_払い戻し', 'ワイド_4', 'ワイド_4_払い戻し', 'ワイド_5', 'ワイド_5_払い戻し',\n",
    "        '馬単', '馬単_払い戻し', '馬単_1', '馬単_1_払い戻し', '馬単_2', '馬単_2_払い戻し',\n",
    "        '3連複', '3連複_払い戻し','3連複_1', '3連複_1_払い戻し',\n",
    "        '3連単', '3連単_払い戻し','3連単_1', '3連単_1_払い戻し',]\n",
    "df_columns = pd.DataFrame(columns=columns)"
   ]
  },
  {
   "cell_type": "code",
   "execution_count": 33,
   "metadata": {},
   "outputs": [],
   "source": [
    "df_data = pd.concat(list, axis=0)"
   ]
  },
  {
   "cell_type": "code",
   "execution_count": 34,
   "metadata": {},
   "outputs": [],
   "source": [
    "df_cocnat = pd.concat([df_columns, df_data], axis=0)"
   ]
  },
  {
   "cell_type": "code",
   "execution_count": 35,
   "metadata": {},
   "outputs": [],
   "source": [
    "df_cocnat.to_excel('results_'+input_year+'.xlsx', index=False)"
   ]
  }
 ],
 "metadata": {
  "kernelspec": {
   "display_name": "Python 3",
   "language": "python",
   "name": "python3"
  },
  "language_info": {
   "codemirror_mode": {
    "name": "ipython",
    "version": 3
   },
   "file_extension": ".py",
   "mimetype": "text/x-python",
   "name": "python",
   "nbconvert_exporter": "python",
   "pygments_lexer": "ipython3",
   "version": "3.11.5"
  }
 },
 "nbformat": 4,
 "nbformat_minor": 2
}
